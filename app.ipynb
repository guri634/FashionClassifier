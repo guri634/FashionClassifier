{
  "cells": [
    {
      "cell_type": "markdown",
      "metadata": {
        "id": "view-in-github",
        "colab_type": "text"
      },
      "source": [
        "<a href=\"https://colab.research.google.com/github/guri634/FashionClassifier/blob/main/app.ipynb\" target=\"_parent\"><img src=\"https://colab.research.google.com/assets/colab-badge.svg\" alt=\"Open In Colab\"/></a>"
      ]
    },
    {
      "cell_type": "code",
      "source": [
        "from flask import Flask, request\n",
        "from tensorflow.keras.models import Model, Sequential, load_model\n",
        "import pickle\n",
        "import numpy as np\n",
        "from tensorflow.keras.preprocessing.image import ImageDataGenerator, load_img"
      ],
      "metadata": {
        "id": "G7lnCntDquK3"
      },
      "execution_count": 6,
      "outputs": []
    },
    {
      "cell_type": "code",
      "source": [
        "model = load_model('/content/drive/MyDrive/FashionClassifier/Models/_FashionClassificationUsingXception.h5')\n",
        "labels = ['T-Shirt', 'Longsleeve', 'Pants', 'Shoes', 'Shirt', 'Dress', 'Outwear', 'Shorts', 'Not_sure', 'Hat', 'Skirt', 'Polo', 'Undershirt', 'Blazer', 'Hoodie', 'Body', 'Other', 'Top', 'Blouse']"
      ],
      "metadata": {
        "id": "oRI0jkIIrcA6"
      },
      "execution_count": 7,
      "outputs": []
    },
    {
      "cell_type": "code",
      "source": [
        "app = Flask(__name__)\n",
        "@app.route('/model', methods=['POST'])\n",
        "def serve_model():\n",
        "    request_data = request.get_json(force=True)\n",
        "    img = request_data['img']\n",
        "    img = np.array(img).resize(-1, 224, 224, 3)\n",
        "    return ('The prediction is: {}'.format(labels[model.predict(img).argmax]))\n",
        "\n",
        "if __name__ == '__main__':\n",
        "    app.run()"
      ],
      "metadata": {
        "colab": {
          "base_uri": "https://localhost:8080/"
        },
        "id": "upHNBBmhrpr3",
        "outputId": "e7de5ea3-93c5-4e08-8b0c-01262069813c"
      },
      "execution_count": null,
      "outputs": [
        {
          "output_type": "stream",
          "name": "stdout",
          "text": [
            " * Serving Flask app \"__main__\" (lazy loading)\n",
            " * Environment: production\n",
            "\u001b[31m   WARNING: This is a development server. Do not use it in a production deployment.\u001b[0m\n",
            "\u001b[2m   Use a production WSGI server instead.\u001b[0m\n",
            " * Debug mode: off\n"
          ]
        },
        {
          "output_type": "stream",
          "name": "stderr",
          "text": [
            "INFO:werkzeug: * Running on http://127.0.0.1:5000/ (Press CTRL+C to quit)\n"
          ]
        }
      ]
    }
  ],
  "metadata": {
    "accelerator": "GPU",
    "colab": {
      "name": "app.ipynb",
      "provenance": [],
      "collapsed_sections": [],
      "mount_file_id": "1K1iE7cZLVnS3KmumNTA1Czz8QQ8WwR-6",
      "authorship_tag": "ABX9TyM3xxVAbgU9STbIN+1wfl+W",
      "include_colab_link": true
    },
    "gpuClass": "standard",
    "kernelspec": {
      "display_name": "Python 3",
      "name": "python3"
    },
    "language_info": {
      "name": "python"
    }
  },
  "nbformat": 4,
  "nbformat_minor": 0
}